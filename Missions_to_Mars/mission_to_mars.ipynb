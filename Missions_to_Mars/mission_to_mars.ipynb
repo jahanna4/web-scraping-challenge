{
 "cells": [
  {
   "cell_type": "code",
   "execution_count": 51,
   "metadata": {},
   "outputs": [],
   "source": [
    "from bs4 import BeautifulSoup as bs\n",
    "from splinter import Browser\n",
    "from flask import Flask\n",
    "from flask_pymongo import PyMongo\n",
    "import requests"
   ]
  },
  {
   "cell_type": "code",
   "execution_count": null,
   "metadata": {},
   "outputs": [],
   "source": []
  },
  {
   "cell_type": "markdown",
   "metadata": {},
   "source": [
    "NASA Mars News"
   ]
  },
  {
   "cell_type": "code",
   "execution_count": 52,
   "metadata": {},
   "outputs": [],
   "source": [
    "mars_url = 'https://mars.nasa.gov/news'\n",
    "pull = requests.get(mars_url)\n",
    "soup = bs(pull.text, 'lxml')"
   ]
  },
  {
   "cell_type": "code",
   "execution_count": 53,
   "metadata": {},
   "outputs": [
    {
     "data": {
      "text/plain": [
       "[<div class=\"image_and_description_container\">\n",
       " <a href=\"/news/8659/alabama-high-school-student-names-nasas-mars-helicopter/\">\n",
       " <div class=\"rollover_description\">\n",
       " <div class=\"rollover_description_inner\">\n",
       " Vaneeza Rupani's essay was chosen as the name for the small spacecraft, which will mark NASA's first attempt at powered flight on another planet.\n",
       " </div>\n",
       " <div class=\"overlay_arrow\">\n",
       " <img alt=\"More\" src=\"/assets/overlay-arrow.png\"/>\n",
       " </div>\n",
       " </div>\n",
       " <img alt=\"Alabama High School Student Names NASA's Mars Helicopter\" class=\"img-lazy\" data-lazy=\"/system/news_items/list_view_images/8659_1-PIA23883-MAIN-320x240.jpg\" src=\"/assets/loading_320x240.png\"/>\n",
       " </a>\n",
       " </div>, <div class=\"image_and_description_container\">\n",
       " <a href=\"/news/8645/mars-helicopter-attached-to-nasas-perseverance-rover/\">\n",
       " <div class=\"rollover_description\">\n",
       " <div class=\"rollover_description_inner\">\n",
       " The team also fueled the rover's sky crane to get ready for this summer's history-making launch.\n",
       " </div>\n",
       " <div class=\"overlay_arrow\">\n",
       " <img alt=\"More\" src=\"/assets/overlay-arrow.png\"/>\n",
       " </div>\n",
       " </div>\n",
       " <img alt=\"Mars Helicopter Attached to NASA's Perseverance Rover\" class=\"img-lazy\" data-lazy=\"/system/news_items/list_view_images/8645_PIA23824-RoverWithHelicopter-32x24.jpg\" src=\"/assets/loading_320x240.png\"/>\n",
       " </a>\n",
       " </div>, <div class=\"image_and_description_container\">\n",
       " <a href=\"/news/8641/nasas-perseverance-mars-rover-gets-its-wheels-and-air-brakes/\">\n",
       " <div class=\"rollover_description\">\n",
       " <div class=\"rollover_description_inner\">\n",
       " After the rover was shipped from JPL to Kennedy Space Center, the team is getting closer to finalizing the spacecraft for launch later this summer.\n",
       " </div>\n",
       " <div class=\"overlay_arrow\">\n",
       " <img alt=\"More\" src=\"/assets/overlay-arrow.png\"/>\n",
       " </div>\n",
       " </div>\n",
       " <img alt=\"NASA's Perseverance Mars Rover Gets Its Wheels and Air Brakes\" class=\"img-lazy\" data-lazy=\"/system/news_items/list_view_images/8641_PIA-23821-320x240.jpg\" src=\"/assets/loading_320x240.png\"/>\n",
       " </a>\n",
       " </div>, <div class=\"image_and_description_container\">\n",
       " <a href=\"/news/8634/109-million-names-now-aboard-nasas-perseverance-mars-rover/\">\n",
       " <div class=\"rollover_description\">\n",
       " <div class=\"rollover_description_inner\">\n",
       " As part of NASA's 'Send Your Name to Mars' campaign, they've been stenciled onto three microchips along with essays from NASA's 'Name the Rover' contest. Next stop: Mars.\n",
       " </div>\n",
       " <div class=\"overlay_arrow\">\n",
       " <img alt=\"More\" src=\"/assets/overlay-arrow.png\"/>\n",
       " </div>\n",
       " </div>\n",
       " <img alt=\"10.9 Million Names Now Aboard NASA's Perseverance Mars Rover\" class=\"img-lazy\" data-lazy=\"/system/news_items/list_view_images/8634_PIA23769-320x240.jpg\" src=\"/assets/loading_320x240.png\"/>\n",
       " </a>\n",
       " </div>, <div class=\"image_and_description_container\">\n",
       " <a href=\"/news/8622/virginia-middle-school-student-earns-honor-of-naming-nasas-next-mars-rover/\">\n",
       " <div class=\"rollover_description\">\n",
       " <div class=\"rollover_description_inner\">\n",
       " NASA chose a seventh-grader from Virginia as winner of the agency's \"Name the Rover\" essay contest. Alexander Mather's entry for \"Perseverance\" was voted tops among 28,000 entries. \n",
       " </div>\n",
       " <div class=\"overlay_arrow\">\n",
       " <img alt=\"More\" src=\"/assets/overlay-arrow.png\"/>\n",
       " </div>\n",
       " </div>\n",
       " <img alt=\"Virginia Middle School Student Earns Honor of Naming NASA's Next Mars Rover\" class=\"img-lazy\" data-lazy=\"/system/news_items/list_view_images/8622_1-PIA23764-RoverNamePlateonMars-320x240.jpg\" src=\"/assets/loading_320x240.png\"/>\n",
       " </a>\n",
       " </div>, <div class=\"image_and_description_container\">\n",
       " <a href=\"/news/8606/nasa-prepares-for-moon-and-mars-with-new-addition-to-its-deep-space-network/\">\n",
       " <div class=\"rollover_description\">\n",
       " <div class=\"rollover_description_inner\">\n",
       " Robotic spacecraft will be able to communicate with the dish using radio waves and lasers.\n",
       " </div>\n",
       " <div class=\"overlay_arrow\">\n",
       " <img alt=\"More\" src=\"/assets/overlay-arrow.png\"/>\n",
       " </div>\n",
       " </div>\n",
       " <img alt=\"NASA Prepares for Moon and Mars With New Addition to Its Deep Space Network\" class=\"img-lazy\" data-lazy=\"/system/news_items/list_view_images/8606_list_image.jpg\" src=\"/assets/loading_320x240.png\"/>\n",
       " </a>\n",
       " </div>]"
      ]
     },
     "execution_count": 53,
     "metadata": {},
     "output_type": "execute_result"
    }
   ],
   "source": [
    "articles = soup.find_all('div', class_='image_and_description_container')\n",
    "articles"
   ]
  },
  {
   "cell_type": "code",
   "execution_count": 54,
   "metadata": {},
   "outputs": [
    {
     "name": "stdout",
     "output_type": "stream",
     "text": [
      "\n",
      "Vaneeza Rupani's essay was chosen as the name for the small spacecraft, which will mark NASA's first attempt at powered flight on another planet.\n",
      "\n",
      "\n",
      "The team also fueled the rover's sky crane to get ready for this summer's history-making launch.\n",
      "\n",
      "\n",
      "After the rover was shipped from JPL to Kennedy Space Center, the team is getting closer to finalizing the spacecraft for launch later this summer.\n",
      "\n",
      "\n",
      "As part of NASA's 'Send Your Name to Mars' campaign, they've been stenciled onto three microchips along with essays from NASA's 'Name the Rover' contest. Next stop: Mars.\n",
      "\n",
      "\n",
      "NASA chose a seventh-grader from Virginia as winner of the agency's \"Name the Rover\" essay contest. Alexander Mather's entry for \"Perseverance\" was voted tops among 28,000 entries. \n",
      "\n",
      "\n",
      "Robotic spacecraft will be able to communicate with the dish using radio waves and lasers.\n",
      "\n"
     ]
    }
   ],
   "source": [
    "for article in articles:\n",
    "    short = article.find('div', class_='rollover_description_inner').text\n",
    "\n",
    "# Title code isn't working. The scrape doesn't appear to be pulling the section of code with the title list in it\n",
    "#     title = article.find('div', class_='bottom_gradient')\n",
    "#     print(title)\n",
    "\n",
    "    print(short)"
   ]
  },
  {
   "cell_type": "code",
   "execution_count": 5,
   "metadata": {},
   "outputs": [],
   "source": [
    "# Tried this call separately to call the title but this also did not work. The bottom_gradient class is not being read\n",
    "#     The line of code that I am trying to call from the website is below. Title name replaced with \"Title Text\"\n",
    "#         <div class=\"bottom_gradient\">\n",
    "#         <div>\n",
    "#         <h3>Title Text</h3>\n",
    "#         </div>\n",
    "#         </div>\n",
    "title_parse = soup.find_all('div', class_='bottom_gradient')\n",
    "# print(title_parse)\n",
    "for title in title_parse:\n",
    "    test = title.find('h3').text\n",
    "    print(na)"
   ]
  },
  {
   "cell_type": "code",
   "execution_count": null,
   "metadata": {},
   "outputs": [],
   "source": []
  },
  {
   "cell_type": "markdown",
   "metadata": {},
   "source": [
    "JPL Mars Space Images"
   ]
  },
  {
   "cell_type": "code",
   "execution_count": 55,
   "metadata": {},
   "outputs": [],
   "source": [
    "executable_path = {'executable_path':'chromedriver.exe'}\n",
    "browser = Browser('chrome', **executable_path, headless=False)"
   ]
  },
  {
   "cell_type": "code",
   "execution_count": 56,
   "metadata": {},
   "outputs": [],
   "source": [
    "jpl_url = 'https://www.jpl.nasa.gov/spaceimages/?search=&category=Mars'\n",
    "browser.visit(jpl_url)"
   ]
  },
  {
   "cell_type": "code",
   "execution_count": 57,
   "metadata": {},
   "outputs": [
    {
     "data": {
      "text/plain": [
       "'https://www.jpl.nasa.gov/spaceimages/images/mediumsize/PIA20263_ip.jpg'"
      ]
     },
     "execution_count": 57,
     "metadata": {},
     "output_type": "execute_result"
    }
   ],
   "source": [
    "html = browser.html\n",
    "parse = bs(html,'html.parser')\n",
    "info = parse.find_all('article', class_='carousel_item')\n",
    "# print(info)\n",
    "fancybox = info[0]('a')\n",
    "# print(fancybox)\n",
    "\n",
    "for a in fancybox:\n",
    "    my_link = a['data-fancybox-href']\n",
    "#     print(my_link)\n",
    "\n",
    "featured_image_url = 'https://www.jpl.nasa.gov' + my_link\n",
    "featured_image_url"
   ]
  },
  {
   "cell_type": "code",
   "execution_count": 187,
   "metadata": {},
   "outputs": [
    {
     "data": {
      "text/plain": [
       "<bound method BaseWebDriver.quit of <splinter.driver.webdriver.chrome.WebDriver object at 0x0000028D72ABFAC8>>"
      ]
     },
     "execution_count": 187,
     "metadata": {},
     "output_type": "execute_result"
    }
   ],
   "source": [
    "browser.quit"
   ]
  },
  {
   "cell_type": "code",
   "execution_count": null,
   "metadata": {},
   "outputs": [],
   "source": []
  },
  {
   "cell_type": "markdown",
   "metadata": {},
   "source": [
    "Mars Facts"
   ]
  },
  {
   "cell_type": "code",
   "execution_count": 63,
   "metadata": {},
   "outputs": [],
   "source": [
    "mars_facts_url = 'https://space-facts.com/mars/'\n",
    "facts_pull = requests.get(mars_facts_url)\n",
    "soup_facts = bs(facts_pull.text, 'lxml')"
   ]
  },
  {
   "cell_type": "code",
   "execution_count": 64,
   "metadata": {},
   "outputs": [
    {
     "data": {
      "text/plain": [
       "[<table class=\"tablepress tablepress-id-p-mars\" id=\"tablepress-p-mars\"><tbody><tr class=\"row-1 odd\"><td class=\"column-1\"><strong>Equatorial Diameter:</strong></td><td class=\"column-2\">6,792 km<br/></td></tr><tr class=\"row-2 even\"><td class=\"column-1\"><strong>Polar Diameter:</strong></td><td class=\"column-2\">6,752 km<br/></td></tr><tr class=\"row-3 odd\"><td class=\"column-1\"><strong>Mass:</strong></td><td class=\"column-2\">6.39 × 10^23 kg<br/> (0.11 Earths)</td></tr><tr class=\"row-4 even\"><td class=\"column-1\"><strong>Moons:</strong></td><td class=\"column-2\">2 (<a href=\"https://space-facts.com/moons/phobos/\">Phobos</a> &amp; <a href=\"https://space-facts.com/moons/deimos/\">Deimos</a>)</td></tr><tr class=\"row-5 odd\"><td class=\"column-1\"><strong>Orbit Distance:</strong></td><td class=\"column-2\">227,943,824 km<br/> (1.38 AU)</td></tr><tr class=\"row-6 even\"><td class=\"column-1\"><strong>Orbit Period:</strong></td><td class=\"column-2\">687 days (1.9 years)<br/></td></tr><tr class=\"row-7 odd\"><td class=\"column-1\"><strong>Surface Temperature: </strong></td><td class=\"column-2\">-87 to -5 °C</td></tr><tr class=\"row-8 even\"><td class=\"column-1\"><strong>First Record:</strong></td><td class=\"column-2\">2nd millennium BC</td></tr><tr class=\"row-9 odd\"><td class=\"column-1\"><strong>Recorded By:</strong></td><td class=\"column-2\">Egyptian astronomers</td></tr></tbody></table>,\n",
       " <table class=\"tablepress tablepress-id-p-mars\" id=\"tablepress-p-mars-no-2\"><tbody><tr class=\"row-1 odd\"><td class=\"column-1\"><strong>Equatorial Diameter:</strong></td><td class=\"column-2\">6,792 km<br/></td></tr><tr class=\"row-2 even\"><td class=\"column-1\"><strong>Polar Diameter:</strong></td><td class=\"column-2\">6,752 km<br/></td></tr><tr class=\"row-3 odd\"><td class=\"column-1\"><strong>Mass:</strong></td><td class=\"column-2\">6.39 × 10^23 kg<br/> (0.11 Earths)</td></tr><tr class=\"row-4 even\"><td class=\"column-1\"><strong>Moons:</strong></td><td class=\"column-2\">2 (<a href=\"https://space-facts.com/moons/phobos/\">Phobos</a> &amp; <a href=\"https://space-facts.com/moons/deimos/\">Deimos</a>)</td></tr><tr class=\"row-5 odd\"><td class=\"column-1\"><strong>Orbit Distance:</strong></td><td class=\"column-2\">227,943,824 km<br/> (1.38 AU)</td></tr><tr class=\"row-6 even\"><td class=\"column-1\"><strong>Orbit Period:</strong></td><td class=\"column-2\">687 days (1.9 years)<br/></td></tr><tr class=\"row-7 odd\"><td class=\"column-1\"><strong>Surface Temperature: </strong></td><td class=\"column-2\">-87 to -5 °C</td></tr><tr class=\"row-8 even\"><td class=\"column-1\"><strong>First Record:</strong></td><td class=\"column-2\">2nd millennium BC</td></tr><tr class=\"row-9 odd\"><td class=\"column-1\"><strong>Recorded By:</strong></td><td class=\"column-2\">Egyptian astronomers</td></tr></tbody></table>]"
      ]
     },
     "execution_count": 64,
     "metadata": {},
     "output_type": "execute_result"
    }
   ],
   "source": [
    "mars_tables = soup_facts.find_all('table', class_= 'tablepress tablepress-id-p-mars')\n",
    "mars_tables"
   ]
  },
  {
   "cell_type": "code",
   "execution_count": null,
   "metadata": {},
   "outputs": [],
   "source": []
  },
  {
   "cell_type": "markdown",
   "metadata": {},
   "source": [
    "Mars Hemispheres"
   ]
  },
  {
   "cell_type": "code",
   "execution_count": 147,
   "metadata": {},
   "outputs": [],
   "source": [
    "executable_path = {'executable_path':'chromedriver.exe'}\n",
    "browser = Browser('chrome', **executable_path, headless=False)"
   ]
  },
  {
   "cell_type": "code",
   "execution_count": 184,
   "metadata": {},
   "outputs": [
    {
     "data": {
      "text/plain": [
       "['https://astrogeology.usgs.gov//cache/images/f5e372a36edfa389625da6d0cc25d905_cerberus_enhanced.tif_full.jpg',\n",
       " 'https://astrogeology.usgs.gov//cache/images/3778f7b43bbbc89d6e3cfabb3613ba93_schiaparelli_enhanced.tif_full.jpg',\n",
       " 'https://astrogeology.usgs.gov//cache/images/555e6403a6ddd7ba16ddb0e471cadcf7_syrtis_major_enhanced.tif_full.jpg',\n",
       " 'https://astrogeology.usgs.gov//cache/images/b3c7c6c9138f57b4756be9b9c43e3a48_valles_marineris_enhanced.tif_full.jpg']"
      ]
     },
     "execution_count": 184,
     "metadata": {},
     "output_type": "execute_result"
    }
   ],
   "source": [
    "img_list = []\n",
    "\n",
    "img_root = 'https://astrogeology.usgs.gov/'\n",
    "\n",
    "\n",
    "cerberus_url = 'https://astrogeology.usgs.gov/search/map/Mars/Viking/cerberus_enhanced'\n",
    "browser.visit(cerberus_url)\n",
    "html = browser.html\n",
    "cerb_parse = bs(html, 'html.parser')\n",
    "cerb_info = cerb_parse.find_all('div', class_='wide-image-wrapper')\n",
    "# print(cerb_parse)\n",
    "\n",
    "for item in cerb_info:\n",
    "    cerb_end = item.find('img', class_='wide-image')['src']\n",
    "    cerb_img = img_root + cerb_end\n",
    "# print(cerb_img)\n",
    "\n",
    "\n",
    "schiap_url = 'https://astrogeology.usgs.gov/search/map/Mars/Viking/schiaparelli_enhanced'\n",
    "browser.visit(schiap_url)\n",
    "html = browser.html\n",
    "schiap_parse = bs(html, 'html.parser')\n",
    "schiap_info = schiap_parse.find_all('div', class_='wide-image-wrapper')\n",
    "# print(schiap_parse)\n",
    "\n",
    "for item in schiap_info:\n",
    "    schiap_end = item.find('img', class_='wide-image')['src']\n",
    "    schiap_img = img_root + schiap_end\n",
    "# print(schiap_img)\n",
    "\n",
    "\n",
    "syrtis_url = 'https://astrogeology.usgs.gov/search/map/Mars/Viking/syrtis_major_enhanced'\n",
    "browser.visit(syrtis_url)\n",
    "html = browser.html\n",
    "syrtis_parse = bs(html, 'html.parser')\n",
    "syrtis_info = syrtis_parse.find_all('div', class_='wide-image-wrapper')\n",
    "# print(syrtis_parse)\n",
    "\n",
    "for item in syrtis_info:\n",
    "    syrtis_end = item.find('img', class_='wide-image')['src']\n",
    "    syrtis_img = img_root + syrtis_end\n",
    "# print(syrtis_img)\n",
    "\n",
    "\n",
    "valles_url = 'https://astrogeology.usgs.gov/search/map/Mars/Viking/valles_marineris_enhanced'\n",
    "browser.visit(valles_url)\n",
    "html = browser.html\n",
    "valles_parse = bs(html, 'html.parser')\n",
    "valles_info = valles_parse.find_all('div', class_='wide-image-wrapper')\n",
    "# print(valles_parse)\n",
    "\n",
    "for item in valles_info:\n",
    "    valles_end = item.find('img', class_='wide-image')['src']\n",
    "    valles_img = img_root + valles_end\n",
    "# print(valles_img)\n",
    "\n",
    "\n",
    "browser.quit()\n",
    "\n",
    "img_list.append(cerb_img)\n",
    "img_list.append(schiap_img)\n",
    "img_list.append(syrtis_img)\n",
    "img_list.append(valles_img)\n",
    "img_list"
   ]
  },
  {
   "cell_type": "code",
   "execution_count": null,
   "metadata": {},
   "outputs": [],
   "source": []
  },
  {
   "cell_type": "code",
   "execution_count": null,
   "metadata": {},
   "outputs": [],
   "source": [
    "executable_path = {'executable_path':'chromedriver.exe'}\n",
    "browser = Browser('chrome', **executable_path, headless=False)"
   ]
  },
  {
   "cell_type": "code",
   "execution_count": 158,
   "metadata": {},
   "outputs": [],
   "source": [
    "hemisphere_url = 'https://astrogeology.usgs.gov/search/results?q=hemisphere+enhanced&k1=target&v1=Mars'\n",
    "browser.visit(hemisphere_url)"
   ]
  },
  {
   "cell_type": "code",
   "execution_count": 166,
   "metadata": {},
   "outputs": [
    {
     "data": {
      "text/plain": [
       "[{'Title': 'Cerberus Hemisphere Enhanced',\n",
       "  'img_url': 'https://astrogeology.usgs.gov//cache/images/f5e372a36edfa389625da6d0cc25d905_cerberus_enhanced.tif_full.jpg'},\n",
       " {'Title': 'Schiaparelli Hemisphere Enhanced',\n",
       "  'img_url': 'https://astrogeology.usgs.gov//cache/images/3778f7b43bbbc89d6e3cfabb3613ba93_schiaparelli_enhanced.tif_full.jpg'},\n",
       " {'Title': 'Syrtis Major Hemisphere Enhanced',\n",
       "  'img_url': 'https://astrogeology.usgs.gov//cache/images/555e6403a6ddd7ba16ddb0e471cadcf7_syrtis_major_enhanced.tif_full.jpg'},\n",
       " {'Title': 'Valles Marineris Hemisphere Enhanced',\n",
       "  'img_url': 'https://astrogeology.usgs.gov//cache/images/b3c7c6c9138f57b4756be9b9c43e3a48_valles_marineris_enhanced.tif_full.jpg'}]"
      ]
     },
     "execution_count": 166,
     "metadata": {},
     "output_type": "execute_result"
    }
   ],
   "source": [
    "hem_titles_images = []\n",
    "title_list = []\n",
    "\n",
    "html = browser.html\n",
    "hem_parse = bs(html,'html.parser')\n",
    "hem_info = hem_parse.find_all('div', class_='item')\n",
    "# print (hem_info)\n",
    "\n",
    "for item in hem_info:\n",
    "    titlehead = item.find('h3').text\n",
    "    title_list.append(titlehead)\n",
    "    if titlehead == 'Cerberus Hemisphere Enhanced':\n",
    "        hem_titles_images.append({\"Title\":titlehead, \"img_url\": cerb_img})\n",
    "    elif titlehead == 'Schiaparelli Hemisphere Enhanced':\n",
    "        hem_titles_images.append({\"Title\":titlehead, \"img_url\": schiap_img})\n",
    "    elif titlehead == 'Syrtis Major Hemisphere Enhanced':\n",
    "        hem_titles_images.append({\"Title\":titlehead, \"img_url\": syrtis_img})\n",
    "    elif titlehead =='Valles Marineris Hemisphere Enhanced':\n",
    "        hem_titles_images.append({\"Title\":titlehead, \"img_url\": valles_img})\n",
    "\n",
    "\n",
    "hem_titles_images"
   ]
  },
  {
   "cell_type": "code",
   "execution_count": null,
   "metadata": {},
   "outputs": [],
   "source": []
  }
 ],
 "metadata": {
  "kernelspec": {
   "display_name": "PythonData",
   "language": "python",
   "name": "pythondata"
  },
  "language_info": {
   "codemirror_mode": {
    "name": "ipython",
    "version": 3
   },
   "file_extension": ".py",
   "mimetype": "text/x-python",
   "name": "python",
   "nbconvert_exporter": "python",
   "pygments_lexer": "ipython3",
   "version": "3.7.4"
  }
 },
 "nbformat": 4,
 "nbformat_minor": 4
}
